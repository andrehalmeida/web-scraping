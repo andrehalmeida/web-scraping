{
 "cells": [
  {
   "cell_type": "code",
   "execution_count": 2,
   "metadata": {},
   "outputs": [],
   "source": [
    "from bs4 import BeautifulSoup\n",
    "import requests\n",
    "from datetime import datetime\n",
    "import pandas as pd"
   ]
  },
  {
   "cell_type": "code",
   "execution_count": 3,
   "metadata": {},
   "outputs": [],
   "source": [
    "string_text =requests.get(\"https://olhardigital.com.br/editorias/noticias/\").text\n",
    "extract = datetime.now().strftime(\"%d-%m-%Y%H:%M:%S\")"
   ]
  },
  {
   "cell_type": "code",
   "execution_count": 4,
   "metadata": {},
   "outputs": [
    {
     "data": {
      "text/plain": [
       "'06-09-202410:27:51'"
      ]
     },
     "execution_count": 4,
     "metadata": {},
     "output_type": "execute_result"
    }
   ],
   "source": [
    "extract"
   ]
  },
  {
   "cell_type": "code",
   "execution_count": 5,
   "metadata": {},
   "outputs": [],
   "source": [
    "text_bsp = BeautifulSoup(string_text, 'html.parser')"
   ]
  },
  {
   "cell_type": "code",
   "execution_count": 6,
   "metadata": {},
   "outputs": [],
   "source": [
    "news = text_bsp.find_all('div', attrs={'class':'post-list margin-wrapper-lg columns2'})"
   ]
  },
  {
   "cell_type": "markdown",
   "metadata": {},
   "source": [
    "### Hedline"
   ]
  },
  {
   "cell_type": "code",
   "execution_count": 7,
   "metadata": {},
   "outputs": [
    {
     "name": "stdout",
     "output_type": "stream",
     "text": [
      "1\n"
     ]
    }
   ],
   "source": [
    "print(len(news))"
   ]
  },
  {
   "cell_type": "code",
   "execution_count": 8,
   "metadata": {},
   "outputs": [
    {
     "data": {
      "text/plain": [
       "'https://olhardigital.com.br/2024/09/06/medicina-e-saude/saude-poluicao-do-ar-pode-causar-efeitos-mais-graves-do-que-se-pensava/'"
      ]
     },
     "execution_count": 8,
     "metadata": {},
     "output_type": "execute_result"
    }
   ],
   "source": [
    "news[0].contents[2].text.replace(\"\", \"\")\n",
    "news[0].find('a').get('href') "
   ]
  },
  {
   "cell_type": "code",
   "execution_count": 9,
   "metadata": {},
   "outputs": [],
   "source": [
    "description = news[0].contents[1].text\n",
    "if not description:\n",
    "    description = news.find('div', attrs={'class':'post-text'})\n",
    "    description = description.text if description else None"
   ]
  },
  {
   "cell_type": "code",
   "execution_count": 10,
   "metadata": {},
   "outputs": [
    {
     "data": {
      "text/plain": [
       "'\\n\\n \\n\\nSaúde: poluição do ar pode causar efeitos mais graves do que se pensava\\nUm estudo realizado por pesquisadores da Helmholtz Munique, da Alemanha, aponta que os...\\nLeia mais... \\n\\n'"
      ]
     },
     "execution_count": 10,
     "metadata": {},
     "output_type": "execute_result"
    }
   ],
   "source": [
    "description"
   ]
  },
  {
   "cell_type": "code",
   "execution_count": null,
   "metadata": {},
   "outputs": [],
   "source": [
    "data= []"
   ]
  },
  {
   "cell_type": "code",
   "execution_count": 15,
   "metadata": {},
   "outputs": [],
   "source": [
    "for nw in news:\n",
    "    hedline = nw.contents[1].text.replace(\"\", \"\")\n",
    "    url = nw.find('a').get('href')\n",
    "    dsp = nw.contents[2].text\n",
    "    if not dsp:\n",
    "        dsp = nw.find('main', attrs={'class':'single-main'})\n",
    "        metadata =nw.find('div', attrs={'class':'post-text'})\n",
    "        time_delta = nw.find('div', attrs={'class':'post-title'})\n",
    "        section = nw.find('div', attrs={'class':'post-excerpt'})\n",
    "        time_delta = time_delta.text if time_delta else None \n",
    "        section = section.text if section else None \n",
    "        \n"
   ]
  }
 ],
 "metadata": {
  "kernelspec": {
   "display_name": "Python 3",
   "language": "python",
   "name": "python3"
  },
  "language_info": {
   "codemirror_mode": {
    "name": "ipython",
    "version": 3
   },
   "file_extension": ".py",
   "mimetype": "text/x-python",
   "name": "python",
   "nbconvert_exporter": "python",
   "pygments_lexer": "ipython3",
   "version": "3.11.4"
  }
 },
 "nbformat": 4,
 "nbformat_minor": 2
}
